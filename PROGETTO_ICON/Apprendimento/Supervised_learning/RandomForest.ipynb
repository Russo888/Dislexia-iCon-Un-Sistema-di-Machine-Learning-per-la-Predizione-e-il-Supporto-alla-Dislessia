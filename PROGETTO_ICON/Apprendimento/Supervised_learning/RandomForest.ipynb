{
  "nbformat": 4,
  "nbformat_minor": 0,
  "metadata": {
    "colab": {
      "provenance": []
    },
    "kernelspec": {
      "name": "python3",
      "display_name": "Python 3"
    },
    "language_info": {
      "name": "python"
    }
  },
  "cells": [
    {
      "cell_type": "code",
      "source": [
        "# This Python 3 environment comes with many helpful analytics libraries installed\n",
        "# It is defined by the kaggle/python Docker image: https://github.com/kaggle/docker-python\n",
        "# For example, here's several helpful packages to load\n",
        "\n",
        "import numpy as np # linear algebra\n",
        "import pandas as pd # data processing, CSV file I/O (e.g. pd.read_csv)\n",
        "import csv\n",
        "\n",
        "from sklearn.model_selection import train_test_split\n",
        "from collections import defaultdict\n",
        "from sklearn.ensemble import RandomForestClassifier\n",
        "from sklearn import metrics\n",
        "from sklearn.preprocessing import StandardScaler\n",
        "\n",
        "import xgboost as xgb\n",
        "from xgboost import XGBClassifier\n",
        "from sklearn import metrics\n"
      ],
      "metadata": {
        "id": "3S_h62DuuaBw"
      },
      "execution_count": 11,
      "outputs": []
    },
    {
      "cell_type": "code",
      "source": [
        "#tratamento de dados\n",
        "#transformar as 4 colunas com string em numerico\n",
        "def cleanData(data) :\n",
        "    for col in data.columns.values:\n",
        "        data[col] = data[col].astype('string')\n",
        "    #----------\n",
        "    for col in data.columns.values:\n",
        "        data[col] = data[col].astype('float',errors = 'ignore')\n",
        "    #-----------\n",
        "    data['Gender']=data.Gender.map({'Male': 1, 'Female': 2})\n",
        "    data['Dyslexia']=data.Dyslexia.map({'No': 0, 'Yes': 1})\n",
        "    data['Nativelang']=data.Nativelang.map({'No': 0, 'Yes': 1})\n",
        "    data['Otherlang']=data.Otherlang.map({'No': 0, 'Yes': 1})"
      ],
      "metadata": {
        "id": "RH3zW80NsE9L"
      },
      "execution_count": 4,
      "outputs": []
    },
    {
      "cell_type": "code",
      "source": [
        "desktopData= pd.read_csv(\"/content/Dyslexia_dataset.csv\", sep = ';', encoding = 'utf-8')\n",
        "cleanData(desktopData)"
      ],
      "metadata": {
        "id": "xw1TrZ-5sfZG"
      },
      "execution_count": 5,
      "outputs": []
    },
    {
      "cell_type": "code",
      "source": [
        "commonalityColumns = ['Gender','Nativelang','Otherlang','Age' , 'Dyslexia']\n",
        "for i in  range(30):\n",
        "    if((i>=0 and i<12) or (i>=13 and i<17) or i==21 or i==22 or i==29):\n",
        "        commonalityColumns.append('Clicks'+str(i+1))\n",
        "        commonalityColumns.append('Hits'+str(i+1))\n",
        "        commonalityColumns.append('Misses'+str(i+1))\n",
        "        commonalityColumns.append('Score'+str(i+1))\n",
        "        commonalityColumns.append('Accuracy'+str(i+1))\n",
        "        commonalityColumns.append('Missrate'+str(i+1))\n",
        "\n",
        "desktopData=desktopData.loc[:,commonalityColumns]"
      ],
      "metadata": {
        "id": "dlT7nGxItKqx"
      },
      "execution_count": 7,
      "outputs": []
    },
    {
      "cell_type": "code",
      "source": [
        "y=desktopData['Dyslexia']\n",
        "X=desktopData.loc[:, desktopData.columns != 'Dyslexia']"
      ],
      "metadata": {
        "id": "6XpGMBmStQxM"
      },
      "execution_count": 9,
      "outputs": []
    },
    {
      "cell_type": "code",
      "source": [
        "X_train, X_test, y_train, y_test = train_test_split(X, y, test_size=0.2, random_state=42)"
      ],
      "metadata": {
        "id": "yKcu-8vhuGzY"
      },
      "execution_count": 12,
      "outputs": []
    },
    {
      "cell_type": "code",
      "source": [
        "from imblearn.over_sampling import SMOTE\n",
        "\n",
        "smote = SMOTE(sampling_strategy='auto', random_state=42)# Bilancia il dataset\n",
        "X_train_sm, y_train_sm = SMOTE(random_state=42).fit_resample(X_train, y_train)\n",
        "print(\"Class distribution after SMOTE:\", y_train_sm.value_counts())"
      ],
      "metadata": {
        "colab": {
          "base_uri": "https://localhost:8080/"
        },
        "id": "ABcH1QqDvBDi",
        "outputId": "8b798a23-e371-460c-a1ba-62f34759f74c"
      },
      "execution_count": 41,
      "outputs": [
        {
          "output_type": "stream",
          "name": "stdout",
          "text": [
            "Class distribution after SMOTE: Dyslexia\n",
            "0    2603\n",
            "1    2603\n",
            "Name: count, dtype: int64\n"
          ]
        }
      ]
    },
    {
      "cell_type": "code",
      "source": [
        "from sklearn.ensemble import RandomForestClassifier\n",
        "from sklearn.metrics import classification_report, confusion_matrix # Import classification_report and confusion_matrix\n",
        "from imblearn.ensemble import BalancedRandomForestClassifier\n",
        "\n",
        "weights = {0: 1, 1: 6}  # Dai più peso alla classe 1 rispetto alla classe 0\n",
        "rf_clf = RandomForestClassifier(\n",
        "    n_estimators=200,\n",
        "    max_depth=6,\n",
        "    class_weight=weights,  # handle class imbalance\n",
        "    random_state=42\n",
        ")\n",
        "\n",
        "rf_clf.fit(X_train, y_train)\n",
        "y_pred_rf = rf_clf.predict(X_test)\n",
        "\n",
        "print(\"Random Forest Classification Report:\")\n",
        "print(classification_report(y_test, y_pred_rf))\n",
        "print(\"Confusion Matrix:\")\n",
        "print(confusion_matrix(y_test, y_pred_rf))"
      ],
      "metadata": {
        "colab": {
          "base_uri": "https://localhost:8080/"
        },
        "id": "tt8bzEc_vXCU",
        "outputId": "bbfc7fad-69e9-4c08-f77e-dd837fa91e1e"
      },
      "execution_count": 43,
      "outputs": [
        {
          "output_type": "stream",
          "name": "stdout",
          "text": [
            "Random Forest Classification Report:\n",
            "              precision    recall  f1-score   support\n",
            "\n",
            "           0       0.93      0.97      0.95       649\n",
            "           1       0.62      0.39      0.48        80\n",
            "\n",
            "    accuracy                           0.91       729\n",
            "   macro avg       0.77      0.68      0.71       729\n",
            "weighted avg       0.89      0.91      0.90       729\n",
            "\n",
            "Confusion Matrix:\n",
            "[[630  19]\n",
            " [ 49  31]]\n"
          ]
        }
      ]
    }
  ]
}